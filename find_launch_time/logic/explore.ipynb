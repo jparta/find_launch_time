{
 "cells": [
  {
   "cell_type": "code",
   "execution_count": 12,
   "metadata": {},
   "outputs": [],
   "source": [
    "from pathlib import Path\n",
    "\n",
    "import geopandas as gpd\n",
    "import pyrosm\n",
    "import matplotlib.pyplot as plt\n",
    "\n",
    "from load_data import DataLoader"
   ]
  },
  {
   "cell_type": "code",
   "execution_count": 6,
   "metadata": {},
   "outputs": [],
   "source": [
    "this_file_parent = globals()['_dh'][0]\n",
    "data_location = Path(this_file_parent).parent / \"data\"\n",
    "data_location.mkdir(exist_ok=True)\n",
    "\n",
    "data_files = {\n",
    "    \"admin_0_countries_zip_filepath\" : data_location / \"ne_110m_admin_0_countries.zip\",\n",
    "    \"admin_0_countries_unzipped_filepath\": data_location / \"ne_110m_admin_0_countries\",\n",
    "    \"admin_0_countries_shp_filepath\": data_location / \"ne_110m_admin_0_countries\" / \"ne_110m_admin_0_countries.shp\",\n",
    "    \"osm_pbf\": None,\n",
    "    \"osm_sqlite\": data_location / \"osm.sqlite\",\n",
    "    \"osm_feather\": data_location / \"osm.feather\",\n",
    "}"
   ]
  },
  {
   "cell_type": "code",
   "execution_count": 5,
   "metadata": {},
   "outputs": [
    {
     "data": {
      "image/svg+xml": [
       "<svg xmlns=\"http://www.w3.org/2000/svg\" xmlns:xlink=\"http://www.w3.org/1999/xlink\" width=\"100.0\" height=\"100.0\" viewBox=\"20.210772918384663 59.41155322533136 11.740139209031327 11.187459765669757\" preserveAspectRatio=\"xMinYMin meet\"><g transform=\"matrix(1,0,0,-1,0,130.01056621633248)\"><path fill-rule=\"evenodd\" fill=\"#66cc99\" stroke=\"#555555\" stroke-width=\"0.23480278418062653\" opacity=\"0.6\" d=\"M 28.591929559043194,69.06477692328666 L 28.445943637818658,68.36461294216404 L 29.97742638522061,67.69829702419275 L 29.054588657352326,66.94428620062206 L 30.217650000000003,65.80598 L 29.54442955904699,64.94867157659048 L 30.44468468600371,64.20445343693909 L 30.035872430142717,63.55281362573855 L 31.516092156711125,62.86768748641289 L 31.139991082490894,62.35769277612441 L 30.21110721204445,61.780027777749694 L 28.07000000000005,60.503520000000094 L 28.070001921525666,60.50351912796823 L 28.069997592895277,60.50351654727584 L 26.255172967236973,60.4239606797625 L 24.496623976344523,60.05731639265166 L 22.869694858499457,59.846373196036225 L 22.290763787533592,60.39192129174154 L 21.322244093519316,60.720169989659524 L 21.544866163832694,61.70532949487179 L 21.05921105315369,62.60739329695874 L 21.536029493910803,63.18973501245587 L 22.442744174903993,63.81781037053129 L 24.730511508897536,64.90234365504084 L 25.398067661243942,65.11142650009374 L 25.294043003040404,65.53434642197045 L 23.903378533633802,66.00692739527962 L 23.565879754335583,66.39605093043743 L 23.53947309743444,67.93600861273525 L 21.978534783626117,68.6168456081807 L 20.645592889089528,69.10624726020087 L 21.244936150810673,69.37044302029308 L 22.356237827247412,68.84174144151491 L 23.66204959483076,68.89124746365054 L 24.735679152126725,68.64955678982146 L 25.689212680776365,69.09211375596904 L 26.179622023226244,69.82529897732614 L 27.732292107867863,70.16419302029625 L 29.015572950971972,69.76649119737799 L 28.591929559043194,69.06477692328666 z\" /></g></svg>"
      ],
      "text/plain": [
       "<POLYGON ((28.592 69.065, 28.446 68.365, 29.977 67.698, 29.055 66.944, 30.21...>"
      ]
     },
     "execution_count": 5,
     "metadata": {},
     "output_type": "execute_result"
    }
   ],
   "source": [
    "admin_0_countries_filepath = data_location / \"ne_110m_admin_0_countries/ne_110m_admin_0_countries.shp\"\n",
    "world = gpd.read_file(admin_0_countries_filepath)\n",
    "\n",
    "finland = world[world['ADMIN'] == 'Finland']\n",
    "finland_polygon = finland['geometry'].iloc[0]\n",
    "finland_polygon"
   ]
  },
  {
   "cell_type": "code",
   "execution_count": 18,
   "metadata": {},
   "outputs": [
    {
     "name": "stdout",
     "output_type": "stream",
     "text": [
      "finland_osm_gs.info():\n",
      "<class 'geopandas.geoseries.GeoSeries'>\n",
      "Index: 100295 entries, 49 to 3775866\n",
      "Series name: geometry\n",
      "Non-Null Count   Dtype   \n",
      "--------------   -----   \n",
      "100295 non-null  geometry\n",
      "dtypes: geometry(1)\n",
      "memory usage: 1.5 MB\n",
      "None\n",
      "Loaded OSM data\n"
     ]
    }
   ],
   "source": [
    "loader = DataLoader(debug=True)\n",
    "bad_landing_backup = loader.bad_landing_gs"
   ]
  },
  {
   "cell_type": "code",
   "execution_count": 19,
   "metadata": {},
   "outputs": [],
   "source": [
    "bad_landing = bad_landing_backup.to_crs(\"3857\")"
   ]
  },
  {
   "cell_type": "code",
   "execution_count": null,
   "metadata": {},
   "outputs": [],
   "source": [
    "helsinki_bbox = (24.782, 60.000, 25.300, 60.300)\n",
    "fig, ax = plt.subplots(figsize=(10, 10))\n",
    "\n",
    "bad_landing_backup.plot(ax=ax, color='red')\n",
    "\n",
    "ax.set_xlim(helsinki_bbox[0], helsinki_bbox[2])\n",
    "ax.set_ylim(helsinki_bbox[1], helsinki_bbox[3])"
   ]
  },
  {
   "cell_type": "code",
   "execution_count": 27,
   "metadata": {},
   "outputs": [
    {
     "data": {
      "text/plain": [
       "<Axes: ylabel='Frequency'>"
      ]
     },
     "execution_count": 27,
     "metadata": {},
     "output_type": "execute_result"
    },
    {
     "data": {
      "image/png": "[encoded data removed]",
      "text/plain": [
       "<Figure size 640x480 with 1 Axes>"
      ]
     },
     "metadata": {},
     "output_type": "display_data"
    }
   ],
   "source": [
    "# Print the largest polygons and their areas\n",
    "bad_landing_areas = bad_landing.area\n",
    "bad_landing_areas.sort_values(ascending=False).plot(kind='hist', logx=True, logy=True)"
   ]
  },
  {
   "cell_type": "code",
   "execution_count": 7,
   "metadata": {},
   "outputs": [
    {
     "data": {
      "text/html": [
       "<div>\n",
       "<style scoped>\n",
       "    .dataframe tbody tr th:only-of-type {\n",
       "        vertical-align: middle;\n",
       "    }\n",
       "\n",
       "    .dataframe tbody tr th {\n",
       "        vertical-align: top;\n",
       "    }\n",
       "\n",
       "    .dataframe thead th {\n",
       "        text-align: right;\n",
       "    }\n",
       "</style>\n",
       "<table border=\"1\" class=\"dataframe\">\n",
       "  <thead>\n",
       "    <tr style=\"text-align: right;\">\n",
       "      <th></th>\n",
       "      <th>scalerank</th>\n",
       "      <th>LABELRANK</th>\n",
       "      <th>ADM0_DIF</th>\n",
       "      <th>LEVEL</th>\n",
       "      <th>GEOU_DIF</th>\n",
       "      <th>SU_DIF</th>\n",
       "      <th>BRK_DIFF</th>\n",
       "      <th>BRK_GROUP</th>\n",
       "      <th>MAPCOLOR7</th>\n",
       "      <th>MAPCOLOR8</th>\n",
       "      <th>...</th>\n",
       "      <th>LONG_LEN</th>\n",
       "      <th>ABBREV_LEN</th>\n",
       "      <th>TINY</th>\n",
       "      <th>HOMEPART</th>\n",
       "      <th>MIN_ZOOM</th>\n",
       "      <th>MIN_LABEL</th>\n",
       "      <th>MAX_LABEL</th>\n",
       "      <th>LABEL_X</th>\n",
       "      <th>LABEL_Y</th>\n",
       "      <th>NE_ID</th>\n",
       "    </tr>\n",
       "  </thead>\n",
       "  <tbody>\n",
       "    <tr>\n",
       "      <th>count</th>\n",
       "      <td>1.0</td>\n",
       "      <td>1.0</td>\n",
       "      <td>1.0</td>\n",
       "      <td>1.0</td>\n",
       "      <td>1.0</td>\n",
       "      <td>1.0</td>\n",
       "      <td>1.0</td>\n",
       "      <td>0.0</td>\n",
       "      <td>1.0</td>\n",
       "      <td>1.0</td>\n",
       "      <td>...</td>\n",
       "      <td>1.0</td>\n",
       "      <td>1.0</td>\n",
       "      <td>1.0</td>\n",
       "      <td>1.0</td>\n",
       "      <td>1.0</td>\n",
       "      <td>1.0</td>\n",
       "      <td>1.0</td>\n",
       "      <td>1.000000</td>\n",
       "      <td>1.000000</td>\n",
       "      <td>1.000000e+00</td>\n",
       "    </tr>\n",
       "    <tr>\n",
       "      <th>mean</th>\n",
       "      <td>1.0</td>\n",
       "      <td>3.0</td>\n",
       "      <td>1.0</td>\n",
       "      <td>2.0</td>\n",
       "      <td>0.0</td>\n",
       "      <td>0.0</td>\n",
       "      <td>0.0</td>\n",
       "      <td>NaN</td>\n",
       "      <td>4.0</td>\n",
       "      <td>1.0</td>\n",
       "      <td>...</td>\n",
       "      <td>7.0</td>\n",
       "      <td>4.0</td>\n",
       "      <td>-99.0</td>\n",
       "      <td>1.0</td>\n",
       "      <td>0.0</td>\n",
       "      <td>3.0</td>\n",
       "      <td>8.0</td>\n",
       "      <td>27.276449</td>\n",
       "      <td>63.252361</td>\n",
       "      <td>1.159321e+09</td>\n",
       "    </tr>\n",
       "    <tr>\n",
       "      <th>std</th>\n",
       "      <td>NaN</td>\n",
       "      <td>NaN</td>\n",
       "      <td>NaN</td>\n",
       "      <td>NaN</td>\n",
       "      <td>NaN</td>\n",
       "      <td>NaN</td>\n",
       "      <td>NaN</td>\n",
       "      <td>NaN</td>\n",
       "      <td>NaN</td>\n",
       "      <td>NaN</td>\n",
       "      <td>...</td>\n",
       "      <td>NaN</td>\n",
       "      <td>NaN</td>\n",
       "      <td>NaN</td>\n",
       "      <td>NaN</td>\n",
       "      <td>NaN</td>\n",
       "      <td>NaN</td>\n",
       "      <td>NaN</td>\n",
       "      <td>NaN</td>\n",
       "      <td>NaN</td>\n",
       "      <td>NaN</td>\n",
       "    </tr>\n",
       "    <tr>\n",
       "      <th>min</th>\n",
       "      <td>1.0</td>\n",
       "      <td>3.0</td>\n",
       "      <td>1.0</td>\n",
       "      <td>2.0</td>\n",
       "      <td>0.0</td>\n",
       "      <td>0.0</td>\n",
       "      <td>0.0</td>\n",
       "      <td>NaN</td>\n",
       "      <td>4.0</td>\n",
       "      <td>1.0</td>\n",
       "      <td>...</td>\n",
       "      <td>7.0</td>\n",
       "      <td>4.0</td>\n",
       "      <td>-99.0</td>\n",
       "      <td>1.0</td>\n",
       "      <td>0.0</td>\n",
       "      <td>3.0</td>\n",
       "      <td>8.0</td>\n",
       "      <td>27.276449</td>\n",
       "      <td>63.252361</td>\n",
       "      <td>1.159321e+09</td>\n",
       "    </tr>\n",
       "    <tr>\n",
       "      <th>25%</th>\n",
       "      <td>1.0</td>\n",
       "      <td>3.0</td>\n",
       "      <td>1.0</td>\n",
       "      <td>2.0</td>\n",
       "      <td>0.0</td>\n",
       "      <td>0.0</td>\n",
       "      <td>0.0</td>\n",
       "      <td>NaN</td>\n",
       "      <td>4.0</td>\n",
       "      <td>1.0</td>\n",
       "      <td>...</td>\n",
       "      <td>7.0</td>\n",
       "      <td>4.0</td>\n",
       "      <td>-99.0</td>\n",
       "      <td>1.0</td>\n",
       "      <td>0.0</td>\n",
       "      <td>3.0</td>\n",
       "      <td>8.0</td>\n",
       "      <td>27.276449</td>\n",
       "      <td>63.252361</td>\n",
       "      <td>1.159321e+09</td>\n",
       "    </tr>\n",
       "    <tr>\n",
       "      <th>50%</th>\n",
       "      <td>1.0</td>\n",
       "      <td>3.0</td>\n",
       "      <td>1.0</td>\n",
       "      <td>2.0</td>\n",
       "      <td>0.0</td>\n",
       "      <td>0.0</td>\n",
       "      <td>0.0</td>\n",
       "      <td>NaN</td>\n",
       "      <td>4.0</td>\n",
       "      <td>1.0</td>\n",
       "      <td>...</td>\n",
       "      <td>7.0</td>\n",
       "      <td>4.0</td>\n",
       "      <td>-99.0</td>\n",
       "      <td>1.0</td>\n",
       "      <td>0.0</td>\n",
       "      <td>3.0</td>\n",
       "      <td>8.0</td>\n",
       "      <td>27.276449</td>\n",
       "      <td>63.252361</td>\n",
       "      <td>1.159321e+09</td>\n",
       "    </tr>\n",
       "    <tr>\n",
       "      <th>75%</th>\n",
       "      <td>1.0</td>\n",
       "      <td>3.0</td>\n",
       "      <td>1.0</td>\n",
       "      <td>2.0</td>\n",
       "      <td>0.0</td>\n",
       "      <td>0.0</td>\n",
       "      <td>0.0</td>\n",
       "      <td>NaN</td>\n",
       "      <td>4.0</td>\n",
       "      <td>1.0</td>\n",
       "      <td>...</td>\n",
       "      <td>7.0</td>\n",
       "      <td>4.0</td>\n",
       "      <td>-99.0</td>\n",
       "      <td>1.0</td>\n",
       "      <td>0.0</td>\n",
       "      <td>3.0</td>\n",
       "      <td>8.0</td>\n",
       "      <td>27.276449</td>\n",
       "      <td>63.252361</td>\n",
       "      <td>1.159321e+09</td>\n",
       "    </tr>\n",
       "    <tr>\n",
       "      <th>max</th>\n",
       "      <td>1.0</td>\n",
       "      <td>3.0</td>\n",
       "      <td>1.0</td>\n",
       "      <td>2.0</td>\n",
       "      <td>0.0</td>\n",
       "      <td>0.0</td>\n",
       "      <td>0.0</td>\n",
       "      <td>NaN</td>\n",
       "      <td>4.0</td>\n",
       "      <td>1.0</td>\n",
       "      <td>...</td>\n",
       "      <td>7.0</td>\n",
       "      <td>4.0</td>\n",
       "      <td>-99.0</td>\n",
       "      <td>1.0</td>\n",
       "      <td>0.0</td>\n",
       "      <td>3.0</td>\n",
       "      <td>8.0</td>\n",
       "      <td>27.276449</td>\n",
       "      <td>63.252361</td>\n",
       "      <td>1.159321e+09</td>\n",
       "    </tr>\n",
       "  </tbody>\n",
       "</table>\n",
       "<p>8 rows × 32 columns</p>\n",
       "</div>"
      ],
      "text/plain": [
       "       scalerank  LABELRANK  ADM0_DIF  LEVEL  GEOU_DIF  SU_DIF  BRK_DIFF   \n",
       "count        1.0        1.0       1.0    1.0       1.0     1.0       1.0  \\\n",
       "mean         1.0        3.0       1.0    2.0       0.0     0.0       0.0   \n",
       "std          NaN        NaN       NaN    NaN       NaN     NaN       NaN   \n",
       "min          1.0        3.0       1.0    2.0       0.0     0.0       0.0   \n",
       "25%          1.0        3.0       1.0    2.0       0.0     0.0       0.0   \n",
       "50%          1.0        3.0       1.0    2.0       0.0     0.0       0.0   \n",
       "75%          1.0        3.0       1.0    2.0       0.0     0.0       0.0   \n",
       "max          1.0        3.0       1.0    2.0       0.0     0.0       0.0   \n",
       "\n",
       "       BRK_GROUP  MAPCOLOR7  MAPCOLOR8  ...  LONG_LEN  ABBREV_LEN  TINY   \n",
       "count        0.0        1.0        1.0  ...       1.0         1.0   1.0  \\\n",
       "mean         NaN        4.0        1.0  ...       7.0         4.0 -99.0   \n",
       "std          NaN        NaN        NaN  ...       NaN         NaN   NaN   \n",
       "min          NaN        4.0        1.0  ...       7.0         4.0 -99.0   \n",
       "25%          NaN        4.0        1.0  ...       7.0         4.0 -99.0   \n",
       "50%          NaN        4.0        1.0  ...       7.0         4.0 -99.0   \n",
       "75%          NaN        4.0        1.0  ...       7.0         4.0 -99.0   \n",
       "max          NaN        4.0        1.0  ...       7.0         4.0 -99.0   \n",
       "\n",
       "       HOMEPART  MIN_ZOOM  MIN_LABEL  MAX_LABEL    LABEL_X    LABEL_Y   \n",
       "count       1.0       1.0        1.0        1.0   1.000000   1.000000  \\\n",
       "mean        1.0       0.0        3.0        8.0  27.276449  63.252361   \n",
       "std         NaN       NaN        NaN        NaN        NaN        NaN   \n",
       "min         1.0       0.0        3.0        8.0  27.276449  63.252361   \n",
       "25%         1.0       0.0        3.0        8.0  27.276449  63.252361   \n",
       "50%         1.0       0.0        3.0        8.0  27.276449  63.252361   \n",
       "75%         1.0       0.0        3.0        8.0  27.276449  63.252361   \n",
       "max         1.0       0.0        3.0        8.0  27.276449  63.252361   \n",
       "\n",
       "              NE_ID  \n",
       "count  1.000000e+00  \n",
       "mean   1.159321e+09  \n",
       "std             NaN  \n",
       "min    1.159321e+09  \n",
       "25%    1.159321e+09  \n",
       "50%    1.159321e+09  \n",
       "75%    1.159321e+09  \n",
       "max    1.159321e+09  \n",
       "\n",
       "[8 rows x 32 columns]"
      ]
     },
     "execution_count": 7,
     "metadata": {},
     "output_type": "execute_result"
    }
   ],
   "source": [
    "finland.describe()"
   ]
  },
  {
   "cell_type": "code",
   "execution_count": 6,
   "metadata": {},
   "outputs": [
    {
     "data": {
      "text/plain": [
       "<Axes: >"
      ]
     },
     "execution_count": 6,
     "metadata": {},
     "output_type": "execute_result"
    },
    {
     "data": {
      "image/png": "[encoded data removed]",
      "text/plain": [
       "<Figure size 640x480 with 1 Axes>"
      ]
     },
     "metadata": {},
     "output_type": "display_data"
    }
   ],
   "source": [
    "finland.plot()"
   ]
  },
  {
   "cell_type": "code",
   "execution_count": 7,
   "metadata": {},
   "outputs": [
    {
     "name": "stdout",
     "output_type": "stream",
     "text": [
      "Downloaded Protobuf data 'finland-latest.osm.pbf' (557.01 MB) to:\n",
      "'/home/jpartanen/Documents/masters_thesis/repos/find_launch_time/data/finland-latest.osm.pbf'\n",
      "0...10...20...30...40...50...60...70...80...90...100 - done.\n"
     ]
    },
    {
     "data": {
      "text/plain": [
       "CompletedProcess(args=['ogr2ogr', '-f', 'SQLite', '-lco', 'FORMAT=WKT', '/home/jpartanen/Documents/masters_thesis/repos/find_launch_time/data/osm.sqlite', '/home/jpartanen/Documents/masters_thesis/repos/find_launch_time/data/finland-latest.osm.pbf'], returncode=0)"
      ]
     },
     "execution_count": 7,
     "metadata": {},
     "output_type": "execute_result"
    }
   ],
   "source": [
    "import subprocess\n",
    "\n",
    "osm_sqlite_filepath = data_files['osm_sqlite']\n",
    "if not osm_sqlite_filepath.exists():\n",
    "    osm_pbf_filepath = pyrosm.get_data(\"Finland\", directory=data_location, update=True)\n",
    "    command = f\"ogr2ogr -f SQLite -lco FORMAT=WKT {osm_sqlite_filepath} {osm_pbf_filepath}\"\n",
    "    subprocess.run(command.split())\n",
    "    #geometries_of_interest = sqlite_to_geodataframe(osm_sqlite_filepath)"
   ]
  },
  {
   "cell_type": "code",
   "execution_count": 8,
   "metadata": {},
   "outputs": [
    {
     "data": {
      "text/plain": [
       "[('geometry_columns',),\n",
       " ('spatial_ref_sys',),\n",
       " ('points',),\n",
       " ('lines',),\n",
       " ('multilinestrings',),\n",
       " ('multipolygons',),\n",
       " ('other_relations',)]"
      ]
     },
     "execution_count": 8,
     "metadata": {},
     "output_type": "execute_result"
    }
   ],
   "source": [
    "import sqlite3\n",
    "\n",
    "con = sqlite3.connect(osm_sqlite_filepath)\n",
    "cursor = con.cursor()\n",
    "\n",
    "# inspect the result\n",
    "query = \"\"\"\n",
    "SELECT \n",
    "    name\n",
    "FROM \n",
    "    sqlite_master\n",
    "WHERE \n",
    "    type ='table' AND \n",
    "    name NOT LIKE 'sqlite_%';\n",
    "    \"\"\"\n",
    "\n",
    "tables = cursor.execute(query)\n",
    "tables.fetchall()"
   ]
  },
  {
   "cell_type": "code",
   "execution_count": 9,
   "metadata": {},
   "outputs": [
    {
     "data": {
      "text/plain": [
       "[(3775972,)]"
      ]
     },
     "execution_count": 9,
     "metadata": {},
     "output_type": "execute_result"
    }
   ],
   "source": [
    "query = \"\"\"\n",
    "SELECT \n",
    "    COUNT(*)\n",
    "FROM \n",
    "    multipolygons\n",
    "\"\"\"\n",
    "\n",
    "count = cursor.execute(query)\n",
    "count.fetchall()"
   ]
  }
 ],
 "metadata": {
  "kernelspec": {
   "display_name": "findtime",
   "language": "python",
   "name": "python3"
  },
  "language_info": {
   "codemirror_mode": {
    "name": "ipython",
    "version": 3
   },
   "file_extension": ".py",
   "mimetype": "text/x-python",
   "name": "python",
   "nbconvert_exporter": "python",
   "pygments_lexer": "ipython3",
   "version": "3.10.12"
  },
  "orig_nbformat": 4
 },
 "nbformat": 4,
 "nbformat_minor": 2
}
